{
 "cells": [
  {
   "cell_type": "code",
   "execution_count": 1,
   "id": "4304c640-c6cf-47f3-a8a9-cb55d65bfd22",
   "metadata": {},
   "outputs": [],
   "source": [
    "import os\n",
    "import importlib.util\n",
    "import torch.distributed as dist\n",
    "import torch\n",
    "from data.builder import build_dataset\n",
    "from models.detectors.zid_rcnn import ZidRCNN\n",
    "from scripts import dist_util\n",
    "from models.utils.data_container import collate\n",
    "from functools import partial\n",
    "from PIL import Image\n",
    "import numpy as np\n",
    "from matplotlib import pyplot as plt\n",
    "from tqdm import tqdm"
   ]
  },
  {
   "cell_type": "code",
   "execution_count": 2,
   "id": "8f193fc5-d243-4889-b3eb-0084d4901802",
   "metadata": {},
   "outputs": [],
   "source": [
    "def build_detector(model_cfg):\n",
    "    model_cfg_ = model_cfg.copy()\n",
    "\n",
    "    model_type = model_cfg_.pop('type') \n",
    "    assert model_type == 'ZidRCNN', f'{model_type} is not implemented yet.'\n",
    "    return ZidRCNN(**model_cfg_)\n",
    "    \n",
    "def get_config_from_file(filename, mode):\n",
    "    spec = importlib.util.spec_from_file_location(mode, filename)\n",
    "    module = importlib.util.module_from_spec(spec)\n",
    "    spec.loader.exec_module(module)\n",
    "\n",
    "    # Create a dictionary from module attributes\n",
    "    config_dict = {key: getattr(module, key) for key in dir(module) if not key.startswith('__')}\n",
    "    return config_dict"
   ]
  },
  {
   "cell_type": "code",
   "execution_count": 7,
   "id": "4de95924-0527-41e3-b619-dc3ca8771c51",
   "metadata": {},
   "outputs": [],
   "source": [
    "def test_batch_processing(batch):\n",
    "    batch['obj_id'] = batch['id'][0]\n",
    "    batch.pop('id')\n",
    "    for k, v in batch.items():\n",
    "        if k == 'img_metas':\n",
    "            batch[k] = batch[k][0].data\n",
    "        if k == 'img':\n",
    "            batch[k] = [batch[k][0].data[0].to(device, non_blocking=True)]\n",
    "        \n",
    "        elif k in ['rgb', 'mask', 'traj']:\n",
    "            batch[k] = batch[k].data.to(device, non_blocking=True)\n",
    "    return batch"
   ]
  },
  {
   "cell_type": "code",
   "execution_count": 3,
   "id": "fda4bca5-2908-47ba-a33d-1424d38e65c5",
   "metadata": {},
   "outputs": [],
   "source": [
    "cfg = get_config_from_file('configs/test_conf.py', 'detection')\n",
    "cfg.get('model')['train_cfg'] = None"
   ]
  },
  {
   "cell_type": "code",
   "execution_count": 4,
   "id": "2808731f-f38c-4dc8-8ced-d2662b63b6ea",
   "metadata": {},
   "outputs": [
    {
     "name": "stdout",
     "output_type": "stream",
     "text": [
      "loading annotations into memory...\n",
      "Done (t=0.04s)\n",
      "creating index...\n",
      "index created!\n"
     ]
    }
   ],
   "source": [
    "dataset = build_dataset(cfg.get('data')['test'])"
   ]
  },
  {
   "cell_type": "code",
   "execution_count": 5,
   "id": "5d127e14-37bf-40b7-84dc-180f8793e42f",
   "metadata": {},
   "outputs": [
    {
     "name": "stdout",
     "output_type": "stream",
     "text": [
      "load model from: torchvision://resnet50\n",
      "Loaded model\n"
     ]
    }
   ],
   "source": [
    "model = build_detector(cfg.get('model'))\n",
    "model_path = '/home/minhnh/project_drive/CV/FewshotObjectDetection/outputs/VoxDet_p2_1/iter_56251.pth'\n",
    "model.load_state_dict(\n",
    "    torch.load(model_path, map_location=\"cpu\")['state_dict']\n",
    ")\n",
    "model.CLASSES = dataset.CLASSES\n",
    "device = torch.device('cuda:4')\n",
    "model.to(device)\n",
    "model.eval()\n",
    "print('Loaded model')"
   ]
  },
  {
   "cell_type": "code",
   "execution_count": 6,
   "id": "412e47f0-b2de-4b46-9482-e301b062643a",
   "metadata": {},
   "outputs": [],
   "source": [
    "data = torch.utils.data.DataLoader(dataset,\n",
    "                                    batch_size=1,\n",
    "                                    num_workers=2,\n",
    "                                    shuffle=False,\n",
    "                                    pin_memory=False,\n",
    "                                    collate_fn=partial(collate, samples_per_gpu=1))"
   ]
  },
  {
   "cell_type": "code",
   "execution_count": null,
   "id": "9120a3fe-c268-43bc-94d6-225fa2cf5e92",
   "metadata": {
    "scrolled": true
   },
   "outputs": [
    {
     "name": "stderr",
     "output_type": "stream",
     "text": [
      "  0%|          | 0/9109 [00:00<?, ?it/s]/home/minhnh/python_venv/cv/lib/python3.9/site-packages/torch/nn/functional.py:4358: UserWarning: Default grid_sample and affine_grid behavior has changed to align_corners=False since 1.3.0. Please specify align_corners=True if the old behavior is desired. See the documentation of grid_sample for details.\n",
      "  warnings.warn(\n",
      "/home/minhnh/python_venv/cv/lib/python3.9/site-packages/torch/nn/functional.py:4296: UserWarning: Default grid_sample and affine_grid behavior has changed to align_corners=False since 1.3.0. Please specify align_corners=True if the old behavior is desired. See the documentation of grid_sample for details.\n",
      "  warnings.warn(\n",
      " 65%|██████▍   | 5876/9109 [08:45<04:43, 11.39it/s]"
     ]
    }
   ],
   "source": [
    "results = []\n",
    "torch.multiprocessing.set_sharing_strategy('file_system')\n",
    "for batch in tqdm(data):\n",
    "    batch = test_batch_processing(batch)\n",
    "    with torch.no_grad():\n",
    "        output = model(**batch, return_loss=False, rescale=True)\n",
    "    results.extend(output)\n",
    "    # break"
   ]
  },
  {
   "cell_type": "code",
   "execution_count": null,
   "id": "78be2db9-7fb4-490b-9534-84c5f0b1d270",
   "metadata": {},
   "outputs": [],
   "source": [
    "dataset.evaluate(results, jsonfile_prefix='results')"
   ]
  }
 ],
 "metadata": {
  "kernelspec": {
   "display_name": "Python_CV",
   "language": "python",
   "name": "python_cv"
  },
  "language_info": {
   "codemirror_mode": {
    "name": "ipython",
    "version": 3
   },
   "file_extension": ".py",
   "mimetype": "text/x-python",
   "name": "python",
   "nbconvert_exporter": "python",
   "pygments_lexer": "ipython3",
   "version": "3.9.5"
  }
 },
 "nbformat": 4,
 "nbformat_minor": 5
}
