{
 "cells": [
  {
   "cell_type": "code",
   "execution_count": null,
   "metadata": {},
   "outputs": [],
   "source": [
    "from models.detectors.zid_rcnn import ZidRCNN\n",
    "\n",
    "def build_detector(model_cfg):\n",
    "    model_cfg_ = model_cfg.copy()\n",
    "\n",
    "    model_type = model_cfg_.pop('type') \n",
    "    assert model_type == 'ZidRCNN', f'{model_type} is not implemented yet.'\n",
    "    return ZidRCNN(**model_cfg_)"
   ]
  },
  {
   "cell_type": "code",
   "execution_count": null,
   "metadata": {},
   "outputs": [],
   "source": [
    "from data.builder import build_dataset"
   ]
  },
  {
   "cell_type": "code",
   "execution_count": null,
   "metadata": {},
   "outputs": [],
   "source": [
    "import importlib.util\n",
    "def get_config_from_file(filename, mode):\n",
    "    spec = importlib.util.spec_from_file_location(mode, filename)\n",
    "    module = importlib.util.module_from_spec(spec)\n",
    "    spec.loader.exec_module(module)\n",
    "\n",
    "    # Create a dictionary from module attributes\n",
    "    config_dict = {key: getattr(module, key) for key in dir(module) if not key.startswith('__')}\n",
    "    return config_dict"
   ]
  },
  {
   "cell_type": "code",
   "execution_count": null,
   "metadata": {},
   "outputs": [],
   "source": [
    "cfg = get_config_from_file('configs/train_reconstruction_conf.py', 'reconstruction')\n",
    "model = build_detector(cfg.get('model'))\n",
    "dataset = build_dataset(cfg.get('data')['train'])"
   ]
  },
  {
   "cell_type": "code",
   "execution_count": null,
   "metadata": {},
   "outputs": [],
   "source": [
    "from torch.utils.data import DataLoader\n",
    "from models.utils.data_container import collate\n",
    "from functools import partial"
   ]
  },
  {
   "cell_type": "code",
   "execution_count": null,
   "metadata": {},
   "outputs": [],
   "source": [
    "batch_size=8\n",
    "num_workers=8"
   ]
  },
  {
   "cell_type": "code",
   "execution_count": null,
   "metadata": {},
   "outputs": [],
   "source": [
    "data = DataLoader(dataset,\n",
    "                batch_size=batch_size,\n",
    "                shuffle=False,\n",
    "                num_workers=num_workers,\n",
    "                pin_memory=True,\n",
    "                collate_fn=partial(collate, samples_per_gpu=batch_size),\n",
    "                # sampler=self.train_sampler,\n",
    "                drop_last = True)"
   ]
  },
  {
   "cell_type": "code",
   "execution_count": null,
   "metadata": {
    "scrolled": true
   },
   "outputs": [],
   "source": [
    "for x in data:\n",
    "    print(x)\n",
    "    break"
   ]
  },
  {
   "cell_type": "code",
   "execution_count": null,
   "metadata": {},
   "outputs": [],
   "source": [
    "plt.imshow(x['rgb'][7][34].permute(1, 2, 0))"
   ]
  },
  {
   "cell_type": "code",
   "execution_count": null,
   "metadata": {},
   "outputs": [],
   "source": [
    "\"_ep01_100000\".split(\"_\")"
   ]
  },
  {
   "cell_type": "code",
   "execution_count": null,
   "metadata": {},
   "outputs": [],
   "source": [
    "'ep01'[2:]"
   ]
  },
  {
   "cell_type": "code",
   "execution_count": null,
   "metadata": {
    "scrolled": true
   },
   "outputs": [],
   "source": [
    "!python train.py --cuda_devices 0,1,2,3"
   ]
  },
  {
   "cell_type": "code",
   "execution_count": null,
   "metadata": {
    "scrolled": true
   },
   "outputs": [
    {
     "name": "stdout",
     "output_type": "stream",
     "text": [
      "Logging to ./results\n",
      "Loading dataset ...\n",
      "loading annotations into memory...\n",
      "Done (t=42.75s)\n",
      "creating index...\n",
      "index created!\n",
      "Dataset scale (before filtering):\n",
      " Images:55000\n",
      " Instances:180000\n",
      "training...\n",
      "Training on 4 GPUs: 0,1,2,3\n",
      "load model from: torchvision://resnet50\n",
      "LOAD Backbone ResNET50 torchvision://resnet50\n",
      "load model from: torchvision://resnet50\n",
      "LOAD Backbone ResNET50 torchvision://resnet50\n",
      "load model from: torchvision://resnet50\n",
      "LOAD Backbone ResNET50 torchvision://resnet50\n",
      "load model from: torchvision://resnet50\n",
      "LOAD Backbone ResNET50 torchvision://resnet50\n",
      "LOAD DeIT\n",
      "LOAD DeIT\n",
      "LOAD DeIT\n",
      "LOAD DeIT\n",
      "Rank: 0 - Device: cuda:0 0\n",
      "Rank: 3 - Device: cuda:3 3Rank: 1 - Device: cuda:1 1Rank: 2 - Device: cuda:2 2\n",
      "\n",
      "\n"
     ]
    }
   ],
   "source": [
    "%run train.py --cuda_devices 0,1,2,3 --phase detection --config configs/train_detection_conf.py"
   ]
  },
  {
   "cell_type": "code",
   "execution_count": null,
   "metadata": {},
   "outputs": [],
   "source": []
  }
 ],
 "metadata": {
  "kernelspec": {
   "display_name": "CV",
   "language": "python",
   "name": "cv"
  },
  "language_info": {
   "codemirror_mode": {
    "name": "ipython",
    "version": 3
   },
   "file_extension": ".py",
   "mimetype": "text/x-python",
   "name": "python",
   "nbconvert_exporter": "python",
   "pygments_lexer": "ipython3",
   "version": "3.9.5"
  }
 },
 "nbformat": 4,
 "nbformat_minor": 4
}
